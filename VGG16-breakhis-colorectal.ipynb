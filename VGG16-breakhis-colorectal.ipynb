{
 "cells": [
  {
   "cell_type": "markdown",
   "metadata": {
    "id": "v8uUMXj8R5wO"
   },
   "source": [
    "**Select the Right Threshold values using ROC Curve**"
   ]
  },
  {
   "cell_type": "code",
   "execution_count": 1,
   "metadata": {
    "id": "zFD_mSfUSCtd"
   },
   "outputs": [],
   "source": [
    "import tensorflow as tf\n",
    "import shutil\n",
    "import numpy as np\n",
    "import pandas as pd\n",
    "import matplotlib.pyplot as plt\n",
    "%matplotlib inline\n",
    "import os \n",
    "from os import listdir\n",
    "import keras\n",
    "from keras.models import Sequential\n",
    "from keras.datasets import mnist\n",
    "from keras.layers import Dense, Dropout, Conv2D, MaxPool2D, Flatten\n",
    "\n",
    "#from keras.utils import to_categorical\n",
    "from keras.preprocessing import image\n",
    "from keras import callbacks\n",
    "from keras import optimizers\n",
    "#from keras.engine import Model\n",
    "#from keras.optimizers import Adam\n",
    "from tensorflow.keras.optimizers import Adam\n",
    "#from keras.applications import VGG16\n",
    "#from keras.utils import to_categorical\n",
    "from sklearn.model_selection import train_test_split\n",
    "#from keras.utils import to_categorical\n",
    "from tqdm import tqdm\n",
    "from keras.utils import np_utils\n",
    "from sklearn.metrics import accuracy_score\n",
    "import seaborn as sns\n",
    "#roc and auc score\n",
    "from sklearn.datasets import make_classification\n",
    "from keras.applications.vgg16 import VGG16\n",
    "from keras.models import Model"
   ]
  },
  {
   "cell_type": "markdown",
   "metadata": {
    "id": "mrl-gyBxcEuN"
   },
   "source": [
    "**Dataset Import**"
   ]
  },
  {
   "cell_type": "code",
   "execution_count": 2,
   "metadata": {
    "id": "qzKqJ6Z4AdNe"
   },
   "outputs": [],
   "source": [
    "def getListOfFiles(dirName):\n",
    "    listOfFile = os.listdir(dirName)\n",
    "    allFiles = list()\n",
    "    for entry in listOfFile:\n",
    "        fullPath = os.path.join(dirName, entry)\n",
    "        if os.path.isdir(fullPath):\n",
    "            allFiles = allFiles + getListOfFiles(fullPath)\n",
    "        else:\n",
    "            allFiles.append(fullPath)\n",
    "                \n",
    "    return allFiles"
   ]
  },
  {
   "cell_type": "code",
   "execution_count": 3,
   "metadata": {
    "colab": {
     "base_uri": "https://localhost:8080/",
     "height": 316
    },
    "id": "ZylFWprQAiQU",
    "outputId": "23e9713f-0974-4c8e-fb61-a2d00986edcc"
   },
   "outputs": [],
   "source": [
    "benign=getListOfFiles('C:/KOUSHIK/CROSS_VALIDATION/DataSet/BreaKHisBin/Benign')\n",
    "malignent=getListOfFiles('C:/KOUSHIK/CROSS_VALIDATION/DataSet/BreaKHisBin//Malignant')"
   ]
  },
  {
   "cell_type": "code",
   "execution_count": 4,
   "metadata": {
    "id": "tHrEwxfNAuTY"
   },
   "outputs": [],
   "source": [
    "input_shape = (48, 48, 3)"
   ]
  },
  {
   "cell_type": "code",
   "execution_count": 5,
   "metadata": {
    "id": "1vm62X84AwEp"
   },
   "outputs": [],
   "source": [
    "data = pd.DataFrame(index=np.arange(0, len(benign)+len(malignent)), columns=[\"image\", \"target\"])\n",
    "k=0\n",
    "for c in [0,1]:\n",
    "    if c==1:\n",
    "        for m in range(len(benign)):\n",
    "            data.iloc[k][\"image\"] = benign[m]\n",
    "            data.iloc[k][\"target\"] = 0\n",
    "            k+=1\n",
    "    else:\n",
    "        for m in range(len(malignent)):\n",
    "            data.iloc[k][\"image\"] = malignent[m]\n",
    "            data.iloc[k][\"target\"] = 1\n",
    "            k+=1"
   ]
  },
  {
   "cell_type": "code",
   "execution_count": 6,
   "metadata": {
    "colab": {
     "base_uri": "https://localhost:8080/"
    },
    "id": "giq5bFi3DNg5",
    "outputId": "425dd26d-5b08-4d6b-837d-4951395a95a6"
   },
   "outputs": [
    {
     "data": {
      "text/plain": [
       "1    1370\n",
       "0     625\n",
       "Name: target, dtype: int64"
      ]
     },
     "execution_count": 6,
     "metadata": {},
     "output_type": "execute_result"
    }
   ],
   "source": [
    "data[\"target\"].value_counts()"
   ]
  },
  {
   "cell_type": "code",
   "execution_count": 7,
   "metadata": {
    "id": "76cN9VhYDQzv"
   },
   "outputs": [],
   "source": [
    "train_image=[]\n",
    "y=[]"
   ]
  },
  {
   "cell_type": "code",
   "execution_count": 8,
   "metadata": {
    "colab": {
     "base_uri": "https://localhost:8080/"
    },
    "id": "n_lEw6TnDTiS",
    "outputId": "ba6724f2-7261-4a1f-8069-8a182beecb28"
   },
   "outputs": [
    {
     "name": "stderr",
     "output_type": "stream",
     "text": [
      "100%|██████████| 1995/1995 [00:45<00:00, 43.81it/s]\n"
     ]
    }
   ],
   "source": [
    "for i in tqdm(range(data.shape[0])):\n",
    "    img = image.load_img(data['image'].iloc[i], target_size=input_shape, grayscale=False)\n",
    "    img = image.img_to_array(img)\n",
    "    img = img/255\n",
    "    train_image.append(img)"
   ]
  },
  {
   "cell_type": "code",
   "execution_count": 10,
   "metadata": {
    "id": "HEbLcy0CDdvf"
   },
   "outputs": [],
   "source": [
    "X = np.array(train_image)\n",
    "y = data.iloc[:,-1].values\n",
    "X_train, X_test, y_train, y_test = train_test_split(X, y, random_state=42, test_size=0.2, stratify=y)\n",
    "X_test, X_val, y_test, y_val = train_test_split(X_test, y_test, random_state=42, test_size=0.2, shuffle=True)"
   ]
  },
  {
   "cell_type": "code",
   "execution_count": 11,
   "metadata": {},
   "outputs": [],
   "source": [
    "X = np.array(train_image)\n",
    "y = data.iloc[:,-1].values\n",
    "X_train, X_test, y_train, y_test = train_test_split(X, y, random_state=42, test_size=0.2, stratify=y)\n",
    "X_test, X_val, y_test, y_val = train_test_split(X_test, y_test, random_state=42, test_size=0.2, shuffle=True)"
   ]
  },
  {
   "cell_type": "code",
   "execution_count": 12,
   "metadata": {
    "id": "tBzTZ6d7DlWi"
   },
   "outputs": [],
   "source": [
    "y_train = keras.utils.np_utils.to_categorical(y_train, 2)\n",
    "y_test = keras.utils.np_utils.to_categorical(y_test, 2)\n",
    "y_val = keras.utils.np_utils.to_categorical(y_val, 2)"
   ]
  },
  {
   "cell_type": "code",
   "execution_count": 13,
   "metadata": {
    "colab": {
     "base_uri": "https://localhost:8080/"
    },
    "id": "Qe7pRP7oDoFn",
    "outputId": "e44ffc41-82ff-4086-a9ce-ecacb212e19c"
   },
   "outputs": [
    {
     "data": {
      "text/plain": [
       "((1596, 48, 48, 3), (319, 48, 48, 3), (80, 48, 48, 3))"
      ]
     },
     "execution_count": 13,
     "metadata": {},
     "output_type": "execute_result"
    }
   ],
   "source": [
    "X_train.shape, X_test.shape, X_val.shape"
   ]
  },
  {
   "cell_type": "markdown",
   "metadata": {
    "id": "_u6KZiLxcKa1"
   },
   "source": [
    "**Use VGG16 Architecture with imagenet**\n"
   ]
  },
  {
   "cell_type": "code",
   "execution_count": 14,
   "metadata": {
    "colab": {
     "base_uri": "https://localhost:8080/"
    },
    "id": "Z6swT2apLZrV",
    "outputId": "8598c0c1-c904-4125-d83f-1a4c5b5cab57"
   },
   "outputs": [
    {
     "name": "stdout",
     "output_type": "stream",
     "text": [
      "Model: \"vgg16\"\n",
      "_________________________________________________________________\n",
      " Layer (type)                Output Shape              Param #   \n",
      "=================================================================\n",
      " input_1 (InputLayer)        [(None, 48, 48, 3)]       0         \n",
      "                                                                 \n",
      " block1_conv1 (Conv2D)       (None, 48, 48, 64)        1792      \n",
      "                                                                 \n",
      " block1_conv2 (Conv2D)       (None, 48, 48, 64)        36928     \n",
      "                                                                 \n",
      " block1_pool (MaxPooling2D)  (None, 24, 24, 64)        0         \n",
      "                                                                 \n",
      " block2_conv1 (Conv2D)       (None, 24, 24, 128)       73856     \n",
      "                                                                 \n",
      " block2_conv2 (Conv2D)       (None, 24, 24, 128)       147584    \n",
      "                                                                 \n",
      " block2_pool (MaxPooling2D)  (None, 12, 12, 128)       0         \n",
      "                                                                 \n",
      " block3_conv1 (Conv2D)       (None, 12, 12, 256)       295168    \n",
      "                                                                 \n",
      " block3_conv2 (Conv2D)       (None, 12, 12, 256)       590080    \n",
      "                                                                 \n",
      " block3_conv3 (Conv2D)       (None, 12, 12, 256)       590080    \n",
      "                                                                 \n",
      " block3_pool (MaxPooling2D)  (None, 6, 6, 256)         0         \n",
      "                                                                 \n",
      " block4_conv1 (Conv2D)       (None, 6, 6, 512)         1180160   \n",
      "                                                                 \n",
      " block4_conv2 (Conv2D)       (None, 6, 6, 512)         2359808   \n",
      "                                                                 \n",
      " block4_conv3 (Conv2D)       (None, 6, 6, 512)         2359808   \n",
      "                                                                 \n",
      " block4_pool (MaxPooling2D)  (None, 3, 3, 512)         0         \n",
      "                                                                 \n",
      " block5_conv1 (Conv2D)       (None, 3, 3, 512)         2359808   \n",
      "                                                                 \n",
      " block5_conv2 (Conv2D)       (None, 3, 3, 512)         2359808   \n",
      "                                                                 \n",
      " block5_conv3 (Conv2D)       (None, 3, 3, 512)         2359808   \n",
      "                                                                 \n",
      " block5_pool (MaxPooling2D)  (None, 1, 1, 512)         0         \n",
      "                                                                 \n",
      "=================================================================\n",
      "Total params: 14,714,688\n",
      "Trainable params: 14,714,688\n",
      "Non-trainable params: 0\n",
      "_________________________________________________________________\n"
     ]
    }
   ],
   "source": [
    "# we build the base model\n",
    "base_model = VGG16(\n",
    "    include_top=False,\n",
    "    weights=\"imagenet\",\n",
    "    input_shape=input_shape)\n",
    "base_model.summary()"
   ]
  },
  {
   "cell_type": "code",
   "execution_count": 15,
   "metadata": {
    "colab": {
     "base_uri": "https://localhost:8080/"
    },
    "id": "bP9yxBiJLlCq",
    "outputId": "835ba361-9019-47e4-ffb4-ecd6c18fb141"
   },
   "outputs": [
    {
     "name": "stdout",
     "output_type": "stream",
     "text": [
      "Layer input_1 frozen.\n",
      "Layer block1_conv1 frozen.\n",
      "Layer block1_conv2 frozen.\n",
      "Layer block1_pool frozen.\n",
      "Layer block2_conv1 frozen.\n",
      "Layer block2_conv2 frozen.\n",
      "Layer block2_pool frozen.\n",
      "Layer block3_conv1 frozen.\n",
      "Layer block3_conv2 frozen.\n",
      "Layer block3_conv3 frozen.\n",
      "Layer block3_pool frozen.\n",
      "Layer block4_conv1 frozen.\n",
      "Layer block4_conv2 frozen.\n",
      "Layer block4_conv3 frozen.\n",
      "Layer block4_pool frozen.\n",
      "Layer block5_conv1 frozen.\n",
      "Layer block5_conv2 frozen.\n",
      "Layer block5_conv3 frozen.\n",
      "Layer block5_pool frozen.\n"
     ]
    }
   ],
   "source": [
    "# We freeze every layer in our base model so that they do not train, we want that our feature extractor stays as before --> transfer learning\n",
    "for layer in base_model.layers: \n",
    "  layer.trainable = False\n",
    "  print('Layer ' + layer.name + ' frozen.')"
   ]
  },
  {
   "cell_type": "code",
   "execution_count": 45,
   "metadata": {
    "id": "6THl9uLcLqYl"
   },
   "outputs": [],
   "source": [
    "# We take the last layer of our the model and add it to our classifier\n",
    "last = base_model.layers[-1].output\n",
    "x = Flatten()(last)\n",
    "x = Dense(1000, activation='relu', name='fc1')(x)\n",
    "x = Dropout(0.3)(x)\n",
    "x = Dense(2, activation='sigmoid', name='predictions')(x)\n",
    "model = Model(base_model.input, x )"
   ]
  },
  {
   "cell_type": "code",
   "execution_count": 46,
   "metadata": {
    "colab": {
     "base_uri": "https://localhost:8080/"
    },
    "id": "hm6t3BWCLuvF",
    "outputId": "ebe987ba-71b8-41be-94b7-1daececa4ab1"
   },
   "outputs": [
    {
     "name": "stdout",
     "output_type": "stream",
     "text": [
      "Model: \"model_1\"\n",
      "_________________________________________________________________\n",
      " Layer (type)                Output Shape              Param #   \n",
      "=================================================================\n",
      " input_1 (InputLayer)        [(None, 48, 48, 3)]       0         \n",
      "                                                                 \n",
      " block1_conv1 (Conv2D)       (None, 48, 48, 64)        1792      \n",
      "                                                                 \n",
      " block1_conv2 (Conv2D)       (None, 48, 48, 64)        36928     \n",
      "                                                                 \n",
      " block1_pool (MaxPooling2D)  (None, 24, 24, 64)        0         \n",
      "                                                                 \n",
      " block2_conv1 (Conv2D)       (None, 24, 24, 128)       73856     \n",
      "                                                                 \n",
      " block2_conv2 (Conv2D)       (None, 24, 24, 128)       147584    \n",
      "                                                                 \n",
      " block2_pool (MaxPooling2D)  (None, 12, 12, 128)       0         \n",
      "                                                                 \n",
      " block3_conv1 (Conv2D)       (None, 12, 12, 256)       295168    \n",
      "                                                                 \n",
      " block3_conv2 (Conv2D)       (None, 12, 12, 256)       590080    \n",
      "                                                                 \n",
      " block3_conv3 (Conv2D)       (None, 12, 12, 256)       590080    \n",
      "                                                                 \n",
      " block3_pool (MaxPooling2D)  (None, 6, 6, 256)         0         \n",
      "                                                                 \n",
      " block4_conv1 (Conv2D)       (None, 6, 6, 512)         1180160   \n",
      "                                                                 \n",
      " block4_conv2 (Conv2D)       (None, 6, 6, 512)         2359808   \n",
      "                                                                 \n",
      " block4_conv3 (Conv2D)       (None, 6, 6, 512)         2359808   \n",
      "                                                                 \n",
      " block4_pool (MaxPooling2D)  (None, 3, 3, 512)         0         \n",
      "                                                                 \n",
      " block5_conv1 (Conv2D)       (None, 3, 3, 512)         2359808   \n",
      "                                                                 \n",
      " block5_conv2 (Conv2D)       (None, 3, 3, 512)         2359808   \n",
      "                                                                 \n",
      " block5_conv3 (Conv2D)       (None, 3, 3, 512)         2359808   \n",
      "                                                                 \n",
      " block5_pool (MaxPooling2D)  (None, 1, 1, 512)         0         \n",
      "                                                                 \n",
      " flatten_1 (Flatten)         (None, 512)               0         \n",
      "                                                                 \n",
      " fc1 (Dense)                 (None, 1000)              513000    \n",
      "                                                                 \n",
      " dropout_1 (Dropout)         (None, 1000)              0         \n",
      "                                                                 \n",
      " predictions (Dense)         (None, 2)                 2002      \n",
      "                                                                 \n",
      "=================================================================\n",
      "Total params: 15,229,690\n",
      "Trainable params: 515,002\n",
      "Non-trainable params: 14,714,688\n",
      "_________________________________________________________________\n"
     ]
    }
   ],
   "source": [
    "from keras.optimizers import adam_v2\n",
    "optimizer = adam_v2.Adam(learning_rate=0.001)\n",
    "model.compile(optimizer=optimizer, loss='binary_crossentropy', metrics=['accuracy'])\n",
    "model.summary()"
   ]
  },
  {
   "cell_type": "markdown",
   "metadata": {
    "id": "58D8CuqyBNCV"
   },
   "source": [
    "**Saving the Model**"
   ]
  },
  {
   "cell_type": "code",
   "execution_count": 47,
   "metadata": {
    "id": "_6BBv83Qx6vf"
   },
   "outputs": [],
   "source": [
    "checkpoint_filepath = 'VGG16_breakhis_colorectal.weight.best.h5'\n",
    "model_checkpoint_callback = tf.keras.callbacks.ModelCheckpoint(\n",
    "    filepath=checkpoint_filepath,\n",
    "    override= True,\n",
    "    monitor='val_accuracy',\n",
    "    mode='max',\n",
    "    save_best_only=True)"
   ]
  },
  {
   "cell_type": "markdown",
   "metadata": {
    "id": "LolyzvfBdCiF"
   },
   "source": [
    "**Train the model**"
   ]
  },
  {
   "cell_type": "code",
   "execution_count": 48,
   "metadata": {
    "colab": {
     "base_uri": "https://localhost:8080/"
    },
    "id": "dnGsFzDKSi7c",
    "outputId": "1e8b31e3-c78a-4668-c0f7-4d5202ddcad9"
   },
   "outputs": [
    {
     "name": "stdout",
     "output_type": "stream",
     "text": [
      "Epoch 1/10\n",
      "25/25 [==============================] - 7s 258ms/step - loss: 0.5874 - accuracy: 0.7043 - val_loss: 0.4736 - val_accuracy: 0.8250\n",
      "Epoch 2/10\n",
      "25/25 [==============================] - 7s 267ms/step - loss: 0.5043 - accuracy: 0.7588 - val_loss: 0.4401 - val_accuracy: 0.8375\n",
      "Epoch 3/10\n",
      "25/25 [==============================] - 8s 315ms/step - loss: 0.4743 - accuracy: 0.7788 - val_loss: 0.3931 - val_accuracy: 0.8625\n",
      "Epoch 4/10\n",
      "25/25 [==============================] - 7s 279ms/step - loss: 0.4561 - accuracy: 0.7920 - val_loss: 0.4118 - val_accuracy: 0.8500\n",
      "Epoch 5/10\n",
      "25/25 [==============================] - 7s 276ms/step - loss: 0.4319 - accuracy: 0.8095 - val_loss: 0.3579 - val_accuracy: 0.8625\n",
      "Epoch 6/10\n",
      "25/25 [==============================] - 7s 285ms/step - loss: 0.4170 - accuracy: 0.8114 - val_loss: 0.3529 - val_accuracy: 0.8875\n",
      "Epoch 7/10\n",
      "25/25 [==============================] - 7s 279ms/step - loss: 0.4250 - accuracy: 0.8089 - val_loss: 0.3878 - val_accuracy: 0.8625\n",
      "Epoch 8/10\n",
      "25/25 [==============================] - 7s 280ms/step - loss: 0.3964 - accuracy: 0.8321 - val_loss: 0.3772 - val_accuracy: 0.8625\n",
      "Epoch 9/10\n",
      "25/25 [==============================] - 7s 294ms/step - loss: 0.3774 - accuracy: 0.8402 - val_loss: 0.3610 - val_accuracy: 0.8750\n",
      "Epoch 10/10\n",
      "25/25 [==============================] - 7s 282ms/step - loss: 0.3682 - accuracy: 0.8477 - val_loss: 0.3387 - val_accuracy: 0.8625\n"
     ]
    }
   ],
   "source": [
    "epochs = 10\n",
    "batch_size = 64\n",
    "history = model.fit(X_train, y_train,\n",
    "          batch_size=batch_size,\n",
    "          validation_data=(X_val, y_val),\n",
    "          callbacks=[model_checkpoint_callback],\n",
    "          epochs=epochs)"
   ]
  },
  {
   "cell_type": "code",
   "execution_count": 49,
   "metadata": {
    "colab": {
     "base_uri": "https://localhost:8080/",
     "height": 282
    },
    "id": "xZLuSwuIMRSj",
    "outputId": "21afd9e2-cbfd-4160-c259-e41359a776b1"
   },
   "outputs": [
    {
     "data": {
      "text/plain": [
       "<AxesSubplot:>"
      ]
     },
     "execution_count": 49,
     "metadata": {},
     "output_type": "execute_result"
    },
    {
     "data": {
      "image/png": "[encoded data removed]",
      "text/plain": [
       "<Figure size 432x288 with 1 Axes>"
      ]
     },
     "metadata": {
      "needs_background": "light"
     },
     "output_type": "display_data"
    }
   ],
   "source": [
    "history_df = pd.DataFrame(history.history)\n",
    "history_df.plot()"
   ]
  },
  {
   "cell_type": "markdown",
   "metadata": {
    "id": "Jqzo5a9JOAa9"
   },
   "source": [
    "**Test the Model**"
   ]
  },
  {
   "cell_type": "code",
   "execution_count": 50,
   "metadata": {
    "colab": {
     "base_uri": "https://localhost:8080/"
    },
    "id": "HADtfvNlOIT5",
    "outputId": "8fbc8b90-043a-465d-904c-24ca1e028fc8"
   },
   "outputs": [
    {
     "name": "stdout",
     "output_type": "stream",
     "text": [
      "10/10 [==============================] - 1s 131ms/step - loss: 0.4585 - accuracy: 0.8088\n",
      "Test loss: 0.45845314860343933\n",
      "Test accuracy: 0.8087774515151978\n"
     ]
    }
   ],
   "source": [
    "# We evaluate the accuracy and the loss in the test set\n",
    "scores = model.evaluate(X_test, y_test, verbose=1)\n",
    "print('Test loss:', scores[0])\n",
    "print('Test accuracy:', scores[1])"
   ]
  },
  {
   "cell_type": "markdown",
   "metadata": {
    "id": "FAUw8SaSBYXF"
   },
   "source": [
    "**Load the saved model**"
   ]
  },
  {
   "cell_type": "code",
   "execution_count": 51,
   "metadata": {
    "id": "erU0-J8V_3sv"
   },
   "outputs": [],
   "source": [
    "new_model = tf.keras.models.load_model(checkpoint_filepath)\n",
    "new_model2 = tf.keras.models.load_model(checkpoint_filepath)"
   ]
  },
  {
   "cell_type": "code",
   "execution_count": 52,
   "metadata": {
    "colab": {
     "base_uri": "https://localhost:8080/"
    },
    "id": "GzOgm_pA_W2f",
    "outputId": "181dac17-3ccf-439f-f09e-cf599ba61372"
   },
   "outputs": [
    {
     "name": "stdout",
     "output_type": "stream",
     "text": [
      "10/10 [==============================] - 1s 132ms/step - loss: 0.4657 - accuracy: 0.7900\n",
      "Test loss: 0.46568432450294495\n",
      "Test accuracy: 0.7899686694145203\n"
     ]
    }
   ],
   "source": [
    "scores1 = new_model2.evaluate(X_test, y_test, verbose=1)\n",
    "print('Test loss:', scores1[0])\n",
    "print('Test accuracy:', scores1[1])"
   ]
  },
  {
   "cell_type": "code",
   "execution_count": 98,
   "metadata": {
    "colab": {
     "base_uri": "https://localhost:8080/"
    },
    "id": "WEWCWlWJAueY",
    "outputId": "f95ce2a3-78e4-45ea-a325-1ca4f3c4d34b"
   },
   "outputs": [
    {
     "name": "stdout",
     "output_type": "stream",
     "text": [
      "Model: \"model_3\"\n",
      "_________________________________________________________________\n",
      " Layer (type)                Output Shape              Param #   \n",
      "=================================================================\n",
      " input_3 (InputLayer)        [(None, 48, 48, 3)]       0         \n",
      "                                                                 \n",
      " block1_conv1 (Conv2D)       (None, 48, 48, 64)        1792      \n",
      "                                                                 \n",
      " block1_conv2 (Conv2D)       (None, 48, 48, 64)        36928     \n",
      "                                                                 \n",
      " block1_pool (MaxPooling2D)  (None, 24, 24, 64)        0         \n",
      "                                                                 \n",
      " block2_conv1 (Conv2D)       (None, 24, 24, 128)       73856     \n",
      "                                                                 \n",
      " block2_conv2 (Conv2D)       (None, 24, 24, 128)       147584    \n",
      "                                                                 \n",
      " block2_pool (MaxPooling2D)  (None, 12, 12, 128)       0         \n",
      "                                                                 \n",
      " block3_conv1 (Conv2D)       (None, 12, 12, 256)       295168    \n",
      "                                                                 \n",
      " block3_conv2 (Conv2D)       (None, 12, 12, 256)       590080    \n",
      "                                                                 \n",
      " block3_conv3 (Conv2D)       (None, 12, 12, 256)       590080    \n",
      "                                                                 \n",
      " block3_pool (MaxPooling2D)  (None, 6, 6, 256)         0         \n",
      "                                                                 \n",
      " block4_conv1 (Conv2D)       (None, 6, 6, 512)         1180160   \n",
      "                                                                 \n",
      " block4_conv2 (Conv2D)       (None, 6, 6, 512)         2359808   \n",
      "                                                                 \n",
      " block4_conv3 (Conv2D)       (None, 6, 6, 512)         2359808   \n",
      "                                                                 \n",
      " block4_pool (MaxPooling2D)  (None, 3, 3, 512)         0         \n",
      "                                                                 \n",
      " block5_conv1 (Conv2D)       (None, 3, 3, 512)         2359808   \n",
      "                                                                 \n",
      " block5_conv2 (Conv2D)       (None, 3, 3, 512)         2359808   \n",
      "                                                                 \n",
      " block5_conv3 (Conv2D)       (None, 3, 3, 512)         2359808   \n",
      "                                                                 \n",
      " block5_pool (MaxPooling2D)  (None, 1, 1, 512)         0         \n",
      "                                                                 \n",
      " flatten_3 (Flatten)         (None, 512)               0         \n",
      "                                                                 \n",
      " fc1 (Dense)                 (None, 1000)              513000    \n",
      "                                                                 \n",
      " dropout_3 (Dropout)         (None, 1000)              0         \n",
      "                                                                 \n",
      " predictions (Dense)         (None, 2)                 2002      \n",
      "                                                                 \n",
      "=================================================================\n",
      "Total params: 15,229,690\n",
      "Trainable params: 515,002\n",
      "Non-trainable params: 14,714,688\n",
      "_________________________________________________________________\n"
     ]
    }
   ],
   "source": [
    "new_model.summary()"
   ]
  },
  {
   "cell_type": "markdown",
   "metadata": {
    "id": "3IM9uYOdipAa"
   },
   "source": [
    "**ROC-AUC Score**"
   ]
  },
  {
   "cell_type": "code",
   "execution_count": 71,
   "metadata": {
    "id": "m8k2shIJisnL"
   },
   "outputs": [],
   "source": [
    "from sklearn.metrics import roc_curve\n",
    "from sklearn.metrics import roc_auc_score"
   ]
  },
  {
   "cell_type": "code",
   "execution_count": 100,
   "metadata": {
    "colab": {
     "base_uri": "https://localhost:8080/"
    },
    "id": "BfCV4E2tiz2c",
    "outputId": "6d54c923-2b95-4378-81c9-6b919936fd35"
   },
   "outputs": [
    {
     "name": "stdout",
     "output_type": "stream",
     "text": [
      "RF test roc-auc: 0.8424202708606379\n"
     ]
    }
   ],
   "source": [
    "y_pred = model.predict(X_test)\n",
    "print('RF test roc-auc: {}'.format(roc_auc_score(y_test, y_pred)))"
   ]
  },
  {
   "cell_type": "markdown",
   "metadata": {
    "id": "vlqqVBpyjW0j"
   },
   "source": [
    "**MCC Score**"
   ]
  },
  {
   "cell_type": "code",
   "execution_count": 101,
   "metadata": {
    "id": "iMJ0QDMzi77C"
   },
   "outputs": [],
   "source": [
    "y_test_1d = []\n",
    "for item in range(0, len(y_test)):\n",
    "    if(y_test[item][0]==1):\n",
    "        y_test_1d.append(0)\n",
    "    else: \n",
    "        y_test_1d.append(1)"
   ]
  },
  {
   "cell_type": "code",
   "execution_count": 102,
   "metadata": {
    "id": "WhtwmEgGjgta"
   },
   "outputs": [],
   "source": [
    "y_pred_1d = []\n",
    "for item in range(0, len(y_pred)):\n",
    "    if(y_pred[item][0]>0.50):\n",
    "        y_pred_1d.append(0)\n",
    "    else: \n",
    "        y_pred_1d.append(1)"
   ]
  },
  {
   "cell_type": "code",
   "execution_count": 72,
   "metadata": {
    "colab": {
     "base_uri": "https://localhost:8080/"
    },
    "id": "WpjFg49vjlea",
    "outputId": "03683603-d916-41da-ddc8-082a2fa4acce"
   },
   "outputs": [
    {
     "ename": "NameError",
     "evalue": "name 'y_test_1d' is not defined",
     "output_type": "error",
     "traceback": [
      "\u001b[1;31m---------------------------------------------------------------------------\u001b[0m",
      "\u001b[1;31mNameError\u001b[0m                                 Traceback (most recent call last)",
      "\u001b[1;32m<ipython-input-72-7682966f2359>\u001b[0m in \u001b[0;36m<module>\u001b[1;34m\u001b[0m\n\u001b[0;32m      1\u001b[0m \u001b[1;32mfrom\u001b[0m \u001b[0msklearn\u001b[0m\u001b[1;33m.\u001b[0m\u001b[0mmetrics\u001b[0m \u001b[1;32mimport\u001b[0m \u001b[0mmatthews_corrcoef\u001b[0m\u001b[1;33m\u001b[0m\u001b[1;33m\u001b[0m\u001b[0m\n\u001b[1;32m----> 2\u001b[1;33m \u001b[0mmatthews_corrcoef\u001b[0m\u001b[1;33m(\u001b[0m\u001b[0my_test_1d\u001b[0m\u001b[1;33m,\u001b[0m \u001b[0my_pred_1d\u001b[0m\u001b[1;33m)\u001b[0m\u001b[1;33m\u001b[0m\u001b[1;33m\u001b[0m\u001b[0m\n\u001b[0m",
      "\u001b[1;31mNameError\u001b[0m: name 'y_test_1d' is not defined"
     ]
    }
   ],
   "source": [
    "from sklearn.metrics import matthews_corrcoef\n",
    "matthews_corrcoef(y_test_1d, y_pred_1d)"
   ]
  },
  {
   "cell_type": "markdown",
   "metadata": {
    "id": "QUk6NUXYjrHK"
   },
   "source": [
    "**ROC Curve**"
   ]
  },
  {
   "cell_type": "code",
   "execution_count": 104,
   "metadata": {
    "id": "R2n_BnHSjyny"
   },
   "outputs": [],
   "source": [
    "y_pred_frac_val = []\n",
    "for item in range(0, len(y_pred)):\n",
    "    if(y_pred[item][0]==1):\n",
    "        y_pred_frac_val.append(y_pred[item][0])\n",
    "    else: \n",
    "        y_pred_frac_val.append(y_pred[item][1])"
   ]
  },
  {
   "cell_type": "code",
   "execution_count": 105,
   "metadata": {
    "id": "b-JFO-DhkACy"
   },
   "outputs": [],
   "source": [
    "fpr, tpr, thresholds = roc_curve(y_test_1d, y_pred_frac_val)"
   ]
  },
  {
   "cell_type": "code",
   "execution_count": 106,
   "metadata": {
    "id": "hvtB0go2j2qK"
   },
   "outputs": [],
   "source": [
    "def plot_roc_curve(fpr, tpr):\n",
    "  plt.plot(fpr, tpr, color= 'orange', label='ROC')\n",
    "  plt.plot([1,0], [1,0], color='darkblue', linestyle='--')\n",
    "  plt.xlabel('False Positive Rate')\n",
    "  plt.ylabel('True Positive Rate')\n",
    "  plt.title('Receiver Operating Characteristics (ROC) Curve')\n",
    "  plt.legend()\n",
    "  plt.show()"
   ]
  },
  {
   "cell_type": "code",
   "execution_count": 107,
   "metadata": {
    "colab": {
     "base_uri": "https://localhost:8080/",
     "height": 295
    },
    "id": "OnJ4-jXRj6nh",
    "outputId": "6df3e133-f504-4413-d272-abbf386ecd0e"
   },
   "outputs": [
    {
     "data": {
      "image/png": "[encoded data removed]",
      "text/plain": [
       "<Figure size 432x288 with 1 Axes>"
      ]
     },
     "metadata": {
      "needs_background": "light"
     },
     "output_type": "display_data"
    }
   ],
   "source": [
    "plot_roc_curve(fpr, tpr)"
   ]
  },
  {
   "cell_type": "markdown",
   "metadata": {
    "id": "3GR2SqNtkDgS"
   },
   "source": [
    "**Getting Best Threshold Value**"
   ]
  },
  {
   "cell_type": "code",
   "execution_count": 108,
   "metadata": {
    "colab": {
     "base_uri": "https://localhost:8080/",
     "height": 359
    },
    "id": "JVVeEL6MkIg6",
    "outputId": "f429bd51-31f5-4409-e583-53b8867de658"
   },
   "outputs": [
    {
     "data": {
      "text/html": [
       "<div>\n",
       "<style scoped>\n",
       "    .dataframe tbody tr th:only-of-type {\n",
       "        vertical-align: middle;\n",
       "    }\n",
       "\n",
       "    .dataframe tbody tr th {\n",
       "        vertical-align: top;\n",
       "    }\n",
       "\n",
       "    .dataframe thead th {\n",
       "        text-align: right;\n",
       "    }\n",
       "</style>\n",
       "<table border=\"1\" class=\"dataframe\">\n",
       "  <thead>\n",
       "    <tr style=\"text-align: right;\">\n",
       "      <th></th>\n",
       "      <th>thresholds</th>\n",
       "      <th>accuracy</th>\n",
       "    </tr>\n",
       "  </thead>\n",
       "  <tbody>\n",
       "    <tr>\n",
       "      <th>59</th>\n",
       "      <td>0.357165</td>\n",
       "      <td>0.805643</td>\n",
       "    </tr>\n",
       "    <tr>\n",
       "      <th>60</th>\n",
       "      <td>0.350736</td>\n",
       "      <td>0.802508</td>\n",
       "    </tr>\n",
       "    <tr>\n",
       "      <th>58</th>\n",
       "      <td>0.369037</td>\n",
       "      <td>0.802508</td>\n",
       "    </tr>\n",
       "    <tr>\n",
       "      <th>57</th>\n",
       "      <td>0.376303</td>\n",
       "      <td>0.802508</td>\n",
       "    </tr>\n",
       "    <tr>\n",
       "      <th>56</th>\n",
       "      <td>0.381558</td>\n",
       "      <td>0.802508</td>\n",
       "    </tr>\n",
       "    <tr>\n",
       "      <th>52</th>\n",
       "      <td>0.449688</td>\n",
       "      <td>0.799373</td>\n",
       "    </tr>\n",
       "    <tr>\n",
       "      <th>71</th>\n",
       "      <td>0.279267</td>\n",
       "      <td>0.796238</td>\n",
       "    </tr>\n",
       "    <tr>\n",
       "      <th>53</th>\n",
       "      <td>0.426794</td>\n",
       "      <td>0.796238</td>\n",
       "    </tr>\n",
       "    <tr>\n",
       "      <th>51</th>\n",
       "      <td>0.467821</td>\n",
       "      <td>0.793103</td>\n",
       "    </tr>\n",
       "    <tr>\n",
       "      <th>63</th>\n",
       "      <td>0.322067</td>\n",
       "      <td>0.793103</td>\n",
       "    </tr>\n",
       "  </tbody>\n",
       "</table>\n",
       "</div>"
      ],
      "text/plain": [
       "    thresholds  accuracy\n",
       "59    0.357165  0.805643\n",
       "60    0.350736  0.802508\n",
       "58    0.369037  0.802508\n",
       "57    0.376303  0.802508\n",
       "56    0.381558  0.802508\n",
       "52    0.449688  0.799373\n",
       "71    0.279267  0.796238\n",
       "53    0.426794  0.796238\n",
       "51    0.467821  0.793103\n",
       "63    0.322067  0.793103"
      ]
     },
     "execution_count": 108,
     "metadata": {},
     "output_type": "execute_result"
    }
   ],
   "source": [
    "from sklearn.metrics import accuracy_score\n",
    "accuracy_ls = []\n",
    "for thres in thresholds:\n",
    "  y_pred = np.where(y_pred_frac_val>thres, 1, 0)\n",
    "  accuracy_ls.append(accuracy_score(y_test_1d, y_pred, normalize = True))\n",
    "accuracy_ls = pd.concat([pd.Series(thresholds), pd.Series(accuracy_ls)], axis=1)\n",
    "accuracy_ls.columns = ['thresholds', 'accuracy']\n",
    "accuracy_ls.sort_values(by='accuracy', ascending=False, inplace=True)\n",
    "accuracy_ls.head(10)"
   ]
  },
  {
   "cell_type": "markdown",
   "metadata": {
    "id": "XlzqdhH-whxB"
   },
   "source": [
    "**BreakHIS program End**"
   ]
  },
  {
   "cell_type": "markdown",
   "metadata": {
    "id": "D7LU86z0wmEG"
   },
   "source": [
    "**Test with colorectal dataset**"
   ]
  },
  {
   "cell_type": "markdown",
   "metadata": {
    "id": "8ZCswX5SEhrW"
   },
   "source": [
    "**Dataset Load**"
   ]
  },
  {
   "cell_type": "code",
   "execution_count": 53,
   "metadata": {
    "id": "62_8gkpO2_af"
   },
   "outputs": [],
   "source": [
    "def getListOfFiles(dirName):\n",
    "    listOfFile = os.listdir(dirName)\n",
    "    allFiles = list()\n",
    "    for entry in listOfFile:\n",
    "        fullPath = os.path.join(dirName, entry)\n",
    "        if os.path.isdir(fullPath):\n",
    "            allFiles = allFiles + getListOfFiles(fullPath)\n",
    "        else:\n",
    "            allFiles.append(fullPath)\n",
    "                \n",
    "    return allFiles"
   ]
  },
  {
   "cell_type": "code",
   "execution_count": 54,
   "metadata": {
    "id": "kFSXDv_gXpnd"
   },
   "outputs": [],
   "source": [
    "colorec_benign=getListOfFiles('C:/KOUSHIK/CROSS_VALIDATION/DataSet/Colorectal Cancer/test/benign')\n",
    "colorec_malignant=getListOfFiles('C:/KOUSHIK/CROSS_VALIDATION/DataSet/Colorectal Cancer/test/malignant')"
   ]
  },
  {
   "cell_type": "code",
   "execution_count": 56,
   "metadata": {
    "colab": {
     "base_uri": "https://localhost:8080/"
    },
    "id": "L1uYClvGYByK",
    "outputId": "51215af3-be1f-4dd1-ced4-0aa8826d5754"
   },
   "outputs": [
    {
     "data": {
      "text/plain": [
       "5552"
      ]
     },
     "execution_count": 56,
     "metadata": {},
     "output_type": "execute_result"
    }
   ],
   "source": [
    "len(colorec_benign)"
   ]
  },
  {
   "cell_type": "code",
   "execution_count": 57,
   "metadata": {
    "id": "OuDl6gzSExA7"
   },
   "outputs": [],
   "source": [
    "data_colorec = pd.DataFrame(index=np.arange(0, len(colorec_benign)+len(colorec_malignant)), columns=[\"image\", \"target\"])\n",
    "k=0\n",
    "for c in [0,1]:\n",
    "    if c==1:\n",
    "        for m in range(len(colorec_benign)):\n",
    "            data_colorec.iloc[k][\"image\"] = colorec_benign[m]\n",
    "            data_colorec.iloc[k][\"target\"] = 0\n",
    "            k+=1\n",
    "    else:\n",
    "        for m in range(len(colorec_malignant)):\n",
    "            data_colorec.iloc[k][\"image\"] = colorec_malignant[m]\n",
    "            data_colorec.iloc[k][\"target\"] = 1\n",
    "            k+=1"
   ]
  },
  {
   "cell_type": "code",
   "execution_count": 58,
   "metadata": {
    "id": "OmqwpSSwHXo-"
   },
   "outputs": [],
   "source": [
    "train_image_colorec=[]\n",
    "y_colorec=[]"
   ]
  },
  {
   "cell_type": "code",
   "execution_count": 59,
   "metadata": {
    "colab": {
     "base_uri": "https://localhost:8080/"
    },
    "id": "yp1klt45HaXr",
    "outputId": "b18a85bd-22f9-4ff3-b56b-5efc7096c833"
   },
   "outputs": [
    {
     "name": "stderr",
     "output_type": "stream",
     "text": [
      "100%|██████████| 7328/7328 [01:25<00:00, 85.81it/s] \n"
     ]
    }
   ],
   "source": [
    "for i in tqdm(range(data_colorec.shape[0])):\n",
    "    img = image.load_img(data_colorec['image'].iloc[i], target_size=input_shape, grayscale=False)\n",
    "    img = image.img_to_array(img)\n",
    "    img = img/255\n",
    "    train_image_colorec.append(img)"
   ]
  },
  {
   "cell_type": "code",
   "execution_count": 60,
   "metadata": {
    "id": "GcoZbb-YHj0T"
   },
   "outputs": [],
   "source": [
    "X_colorec = np.array(train_image_colorec)\n",
    "y_colorec = data_colorec.iloc[:,-1].values"
   ]
  },
  {
   "cell_type": "code",
   "execution_count": 61,
   "metadata": {},
   "outputs": [],
   "source": [
    "X_train_colorec, X_test_colorec, y_train_colorec, y_test_colorec = train_test_split(X_colorec, y_colorec, random_state=42, test_size=0.99, stratify=y_colorec)\n",
    "#X_test_colorec, X_val_colorec, y_test_colorec, y_val_colorec = train_test_split(X_test_colorec, y_test_colorec, random_state=42, test_size=0.2, stratify=y_test_colorec, shuffle=True)"
   ]
  },
  {
   "cell_type": "code",
   "execution_count": 62,
   "metadata": {},
   "outputs": [
    {
     "data": {
      "text/plain": [
       "(7255, 48, 48, 3)"
      ]
     },
     "execution_count": 62,
     "metadata": {},
     "output_type": "execute_result"
    }
   ],
   "source": [
    "X_test_colorec.shape"
   ]
  },
  {
   "cell_type": "code",
   "execution_count": 63,
   "metadata": {},
   "outputs": [
    {
     "data": {
      "text/plain": [
       "(7255,)"
      ]
     },
     "execution_count": 63,
     "metadata": {},
     "output_type": "execute_result"
    }
   ],
   "source": [
    "y_test_colorec.shape"
   ]
  },
  {
   "cell_type": "code",
   "execution_count": 64,
   "metadata": {
    "id": "8jbBIEnEHqp0"
   },
   "outputs": [],
   "source": [
    "y_colorec_ct = keras.utils.np_utils.to_categorical(y_colorec, 2)\n",
    "y_train_colorec_ct = keras.utils.np_utils.to_categorical(y_train_colorec, 2)\n",
    "y_test_colorec_ct = keras.utils.np_utils.to_categorical(y_test_colorec, 2)\n",
    "#y_val_colorec_ct = keras.utils.np_utils.to_categorical(y_val, 2)"
   ]
  },
  {
   "cell_type": "code",
   "execution_count": 65,
   "metadata": {},
   "outputs": [
    {
     "data": {
      "text/plain": [
       "(7255, 2)"
      ]
     },
     "execution_count": 65,
     "metadata": {},
     "output_type": "execute_result"
    }
   ],
   "source": [
    "y_test_colorec_ct.shape"
   ]
  },
  {
   "cell_type": "markdown",
   "metadata": {
    "id": "pkvd2lLvrBhC"
   },
   "source": [
    "**Test With Full Colorectal Dataset**"
   ]
  },
  {
   "cell_type": "code",
   "execution_count": 66,
   "metadata": {
    "id": "ArEIrV3nrIQV"
   },
   "outputs": [],
   "source": [
    "#load the model\n",
    "model_breakhis = tf.keras.models.load_model(checkpoint_filepath)"
   ]
  },
  {
   "cell_type": "code",
   "execution_count": 69,
   "metadata": {},
   "outputs": [
    {
     "name": "stdout",
     "output_type": "stream",
     "text": [
      "229/229 [==============================] - 27s 118ms/step - loss: 1.3706 - accuracy: 0.3678\n",
      "Test loss: 1.37064528465271\n",
      "Test accuracy: 0.36776745319366455\n"
     ]
    }
   ],
   "source": [
    "#getting accuracy using full colorectal dataset\n",
    "scores1 = model_breakhis.evaluate(X_colorec, y_colorec_ct, verbose=1)\n",
    "print('Test loss:', scores1[0])\n",
    "print('Test accuracy:', scores1[1])"
   ]
  },
  {
   "cell_type": "code",
   "execution_count": 189,
   "metadata": {},
   "outputs": [
    {
     "name": "stdout",
     "output_type": "stream",
     "text": [
      "Epoch 1/10\n",
      "14/14 [==============================] - ETA: 0s - loss: 0.5668 - accuracy: 0.7159WARNING:tensorflow:Can save best model only with val_accuracy available, skipping.\n",
      "14/14 [==============================] - 9s 639ms/step - loss: 0.5668 - accuracy: 0.7159\n",
      "Epoch 2/10\n",
      "14/14 [==============================] - ETA: 0s - loss: 0.4805 - accuracy: 0.7371WARNING:tensorflow:Can save best model only with val_accuracy available, skipping.\n",
      "14/14 [==============================] - 8s 602ms/step - loss: 0.4805 - accuracy: 0.7371\n",
      "Epoch 3/10\n",
      "14/14 [==============================] - ETA: 0s - loss: 0.4394 - accuracy: 0.7752WARNING:tensorflow:Can save best model only with val_accuracy available, skipping.\n",
      "14/14 [==============================] - 9s 609ms/step - loss: 0.4394 - accuracy: 0.7752\n",
      "Epoch 4/10\n",
      "14/14 [==============================] - ETA: 0s - loss: 0.4180 - accuracy: 0.8031WARNING:tensorflow:Can save best model only with val_accuracy available, skipping.\n",
      "14/14 [==============================] - 9s 620ms/step - loss: 0.4180 - accuracy: 0.8031\n",
      "Epoch 5/10\n",
      "14/14 [==============================] - ETA: 0s - loss: 0.3863 - accuracy: 0.8177WARNING:tensorflow:Can save best model only with val_accuracy available, skipping.\n",
      "14/14 [==============================] - 8s 595ms/step - loss: 0.3863 - accuracy: 0.8177\n",
      "Epoch 6/10\n",
      "14/14 [==============================] - ETA: 0s - loss: 0.3733 - accuracy: 0.8345WARNING:tensorflow:Can save best model only with val_accuracy available, skipping.\n",
      "14/14 [==============================] - 8s 599ms/step - loss: 0.3733 - accuracy: 0.8345\n",
      "Epoch 7/10\n",
      "14/14 [==============================] - ETA: 0s - loss: 0.3447 - accuracy: 0.8389WARNING:tensorflow:Can save best model only with val_accuracy available, skipping.\n",
      "14/14 [==============================] - 8s 597ms/step - loss: 0.3447 - accuracy: 0.8389\n",
      "Epoch 8/10\n",
      "14/14 [==============================] - ETA: 0s - loss: 0.3311 - accuracy: 0.8501WARNING:tensorflow:Can save best model only with val_accuracy available, skipping.\n",
      "14/14 [==============================] - 8s 603ms/step - loss: 0.3311 - accuracy: 0.8501\n",
      "Epoch 9/10\n",
      "14/14 [==============================] - ETA: 0s - loss: 0.3229 - accuracy: 0.8445WARNING:tensorflow:Can save best model only with val_accuracy available, skipping.\n",
      "14/14 [==============================] - 9s 623ms/step - loss: 0.3229 - accuracy: 0.8445\n",
      "Epoch 10/10\n",
      "14/14 [==============================] - ETA: 0s - loss: 0.3129 - accuracy: 0.8579WARNING:tensorflow:Can save best model only with val_accuracy available, skipping.\n",
      "14/14 [==============================] - 8s 598ms/step - loss: 0.3129 - accuracy: 0.8579\n"
     ]
    }
   ],
   "source": [
    "epochs = 10\n",
    "batch_size = 64\n",
    "history = model_breakhis.fit(X_train_colorec, y_train_colorec_ct,\n",
    "          batch_size=batch_size,\n",
    "          callbacks=[model_checkpoint_callback],\n",
    "          epochs=epochs)"
   ]
  },
  {
   "cell_type": "code",
   "execution_count": 198,
   "metadata": {
    "colab": {
     "base_uri": "https://localhost:8080/"
    },
    "id": "tRSfDkxe4aDI",
    "outputId": "914f7afe-f3b5-431d-9103-58c25d835bc8"
   },
   "outputs": [
    {
     "name": "stdout",
     "output_type": "stream",
     "text": [
      "2767/2767 [==============================] - 875s 315ms/step - loss: 0.4196 - accuracy: 0.7998\n",
      "Test loss: 0.41960811614990234\n",
      "Test accuracy: 0.7997515201568604\n"
     ]
    }
   ],
   "source": [
    "#getting accuracy using full colorectal dataset\n",
    "scores1 = model_breakhis.evaluate(X_test_colorec, y_test_colorec_ct, verbose=1)\n",
    "print('Test loss:', scores1[0])\n",
    "print('Test accuracy:', scores1[1])"
   ]
  },
  {
   "cell_type": "markdown",
   "metadata": {},
   "source": [
    "# AUC Score"
   ]
  },
  {
   "cell_type": "code",
   "execution_count": 73,
   "metadata": {},
   "outputs": [
    {
     "name": "stdout",
     "output_type": "stream",
     "text": [
      "AUC Score: 0.5130438294697797\n"
     ]
    }
   ],
   "source": [
    "y_pred_colorec = model_breakhis.predict(X_colorec)\n",
    "print('AUC Score: {}'.format(roc_auc_score(y_colorec_ct, y_pred_colorec)))"
   ]
  },
  {
   "cell_type": "markdown",
   "metadata": {},
   "source": [
    "# MCC Score"
   ]
  },
  {
   "cell_type": "code",
   "execution_count": 78,
   "metadata": {},
   "outputs": [],
   "source": [
    "y_test_1d = []\n",
    "for item in range(0, len(y_colorec)):\n",
    "    if(y_colorec_ct[item][0]==1):\n",
    "        y_test_1d.append(0)\n",
    "    else: \n",
    "        y_test_1d.append(1)"
   ]
  },
  {
   "cell_type": "code",
   "execution_count": 79,
   "metadata": {},
   "outputs": [],
   "source": [
    "y_pred_1d = []\n",
    "for item in range(0, len(y_pred_colorec)):\n",
    "    if(y_pred_colorec[item][0]>0.50):\n",
    "        y_pred_1d.append(0)\n",
    "    else: \n",
    "        y_pred_1d.append(1)"
   ]
  },
  {
   "cell_type": "code",
   "execution_count": 80,
   "metadata": {},
   "outputs": [
    {
     "data": {
      "text/plain": [
       "0.06722204604172857"
      ]
     },
     "execution_count": 80,
     "metadata": {},
     "output_type": "execute_result"
    }
   ],
   "source": [
    "matthews_corrcoef(y_test_1d, y_pred_1d)"
   ]
  },
  {
   "cell_type": "markdown",
   "metadata": {},
   "source": [
    "# ROC Curve"
   ]
  },
  {
   "cell_type": "code",
   "execution_count": 128,
   "metadata": {},
   "outputs": [],
   "source": [
    "y_pred_frac_val = []\n",
    "for item in range(0, len(y_pred_colorec)):\n",
    "    if(y_pred_colorec[item][0]==1):\n",
    "        y_pred_frac_val.append(y_pred_colorec[item][0])\n",
    "    else: \n",
    "        y_pred_frac_val.append(y_pred_colorec[item][1])"
   ]
  },
  {
   "cell_type": "code",
   "execution_count": 129,
   "metadata": {},
   "outputs": [],
   "source": [
    "fpr, tpr, thresholds = roc_curve(y_test_1d, y_pred_frac_val)"
   ]
  },
  {
   "cell_type": "code",
   "execution_count": 130,
   "metadata": {},
   "outputs": [],
   "source": [
    "def plot_roc_curve(fpr, tpr):\n",
    "  plt.plot(fpr, tpr, color= 'orange', label='ROC')\n",
    "  plt.plot([1,0], [1,0], color='darkblue', linestyle='--')\n",
    "  plt.xlabel('False Positive Rate')\n",
    "  plt.ylabel('True Positive Rate')\n",
    "  plt.title('Receiver Operating Characteristics (ROC) Curve')\n",
    "  plt.legend()\n",
    "  plt.show()"
   ]
  },
  {
   "cell_type": "code",
   "execution_count": 131,
   "metadata": {},
   "outputs": [
    {
     "data": {
      "image/png": "[encoded data removed]",
      "text/plain": [
       "<Figure size 432x288 with 1 Axes>"
      ]
     },
     "metadata": {
      "needs_background": "light"
     },
     "output_type": "display_data"
    }
   ],
   "source": [
    "plot_roc_curve(fpr, tpr)"
   ]
  },
  {
   "cell_type": "markdown",
   "metadata": {
    "id": "75V1E1f4rJb7"
   },
   "source": [
    "# Getting Best Threshold Value"
   ]
  },
  {
   "cell_type": "code",
   "execution_count": 132,
   "metadata": {},
   "outputs": [
    {
     "data": {
      "text/html": [
       "<div>\n",
       "<style scoped>\n",
       "    .dataframe tbody tr th:only-of-type {\n",
       "        vertical-align: middle;\n",
       "    }\n",
       "\n",
       "    .dataframe tbody tr th {\n",
       "        vertical-align: top;\n",
       "    }\n",
       "\n",
       "    .dataframe thead th {\n",
       "        text-align: right;\n",
       "    }\n",
       "</style>\n",
       "<table border=\"1\" class=\"dataframe\">\n",
       "  <thead>\n",
       "    <tr style=\"text-align: right;\">\n",
       "      <th></th>\n",
       "      <th>thresholds</th>\n",
       "      <th>accuracy</th>\n",
       "    </tr>\n",
       "  </thead>\n",
       "  <tbody>\n",
       "    <tr>\n",
       "      <th>0</th>\n",
       "      <td>2.000000</td>\n",
       "      <td>0.723114</td>\n",
       "    </tr>\n",
       "    <tr>\n",
       "      <th>1</th>\n",
       "      <td>1.000000</td>\n",
       "      <td>0.723114</td>\n",
       "    </tr>\n",
       "    <tr>\n",
       "      <th>2</th>\n",
       "      <td>1.000000</td>\n",
       "      <td>0.719670</td>\n",
       "    </tr>\n",
       "    <tr>\n",
       "      <th>3</th>\n",
       "      <td>1.000000</td>\n",
       "      <td>0.719447</td>\n",
       "    </tr>\n",
       "    <tr>\n",
       "      <th>4</th>\n",
       "      <td>1.000000</td>\n",
       "      <td>0.719290</td>\n",
       "    </tr>\n",
       "    <tr>\n",
       "      <th>5</th>\n",
       "      <td>1.000000</td>\n",
       "      <td>0.718899</td>\n",
       "    </tr>\n",
       "    <tr>\n",
       "      <th>6</th>\n",
       "      <td>1.000000</td>\n",
       "      <td>0.718798</td>\n",
       "    </tr>\n",
       "    <tr>\n",
       "      <th>7</th>\n",
       "      <td>1.000000</td>\n",
       "      <td>0.718463</td>\n",
       "    </tr>\n",
       "    <tr>\n",
       "      <th>8</th>\n",
       "      <td>1.000000</td>\n",
       "      <td>0.718440</td>\n",
       "    </tr>\n",
       "    <tr>\n",
       "      <th>9</th>\n",
       "      <td>0.999999</td>\n",
       "      <td>0.718340</td>\n",
       "    </tr>\n",
       "  </tbody>\n",
       "</table>\n",
       "</div>"
      ],
      "text/plain": [
       "   thresholds  accuracy\n",
       "0    2.000000  0.723114\n",
       "1    1.000000  0.723114\n",
       "2    1.000000  0.719670\n",
       "3    1.000000  0.719447\n",
       "4    1.000000  0.719290\n",
       "5    1.000000  0.718899\n",
       "6    1.000000  0.718798\n",
       "7    1.000000  0.718463\n",
       "8    1.000000  0.718440\n",
       "9    0.999999  0.718340"
      ]
     },
     "execution_count": 132,
     "metadata": {},
     "output_type": "execute_result"
    }
   ],
   "source": [
    "#accuracy_ls = []\n",
    "#for thres in thresholds:\n",
    "#  y_pred = np.where(y_pred_frac_val>thres, 1, 0)\n",
    "#  accuracy_ls.append(accuracy_score(y_test_1d, y_pred, normalize = True))\n",
    "#accuracy_ls = pd.concat([pd.Series(thresholds), pd.Series(accuracy_ls)], axis=1)\n",
    "#accuracy_ls.columns = ['thresholds', 'accuracy']\n",
    "#accuracy_ls.sort_values(by='accuracy', ascending=False, inplace=True)\n",
    "#accuracy_ls.head(10)"
   ]
  }
 ],
 "metadata": {
  "accelerator": "GPU",
  "colab": {
   "collapsed_sections": [],
   "name": "breaKHisCNN.ipynb",
   "provenance": []
  },
  "kernelspec": {
   "display_name": "Python 3",
   "language": "python",
   "name": "python3"
  },
  "language_info": {
   "codemirror_mode": {
    "name": "ipython",
    "version": 3
   },
   "file_extension": ".py",
   "mimetype": "text/x-python",
   "name": "python",
   "nbconvert_exporter": "python",
   "pygments_lexer": "ipython3",
   "version": "3.8.8"
  }
 },
 "nbformat": 4,
 "nbformat_minor": 1
}
