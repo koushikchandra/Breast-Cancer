{
 "cells": [
  {
   "cell_type": "code",
   "execution_count": 74,
   "id": "e693edaa",
   "metadata": {},
   "outputs": [],
   "source": [
    "import shutil\n",
    "import matplotlib.pyplot as plt\n",
    "from sklearn.utils import resample\n",
    "import numpy as np \n",
    "import pandas as pd \n",
    "import os \n",
    "from os import listdir\n",
    "import keras\n",
    "from keras.models import Sequential\n",
    "from keras.layers import Dense, Dropout, Flatten\n",
    "from keras.layers import Conv2D, MaxPooling2D\n",
    "#from keras.utils import to_categorical\n",
    "from keras.preprocessing import image\n",
    "import numpy as np\n",
    "import pandas as pd\n",
    "import matplotlib.pyplot as plt\n",
    "from sklearn.model_selection import train_test_split\n",
    "#from keras.utils import to_categorical\n",
    "from tqdm import tqdm\n",
    "from keras.datasets import mnist\n",
    "from keras.models import Sequential\n",
    "from keras.layers import Dense, Dropout, Conv2D, MaxPool2D, Flatten\n",
    "from keras.utils import np_utils\n",
    "from sklearn.metrics import accuracy_score\n",
    "%matplotlib inline"
   ]
  },
  {
   "cell_type": "code",
   "execution_count": 75,
   "id": "1d1a3456",
   "metadata": {},
   "outputs": [],
   "source": [
    "def getListOfFiles(dirName):\n",
    "    listOfFile = os.listdir(dirName)\n",
    "    allFiles = list()\n",
    "    for entry in listOfFile:\n",
    "        fullPath = os.path.join(dirName, entry)\n",
    "        if os.path.isdir(fullPath):\n",
    "            allFiles = allFiles + getListOfFiles(fullPath)\n",
    "        else:\n",
    "            allFiles.append(fullPath)\n",
    "                \n",
    "    return allFiles"
   ]
  },
  {
   "cell_type": "code",
   "execution_count": 114,
   "id": "a9557098",
   "metadata": {},
   "outputs": [],
   "source": [
    "benign=getListOfFiles('C:/KOUSHIK/CROSS_VALIDATION/DataSet/Colorectal Cancer/NCT-CRC-HE-100K-NONORM/NORM')\n",
    "malignent=getListOfFiles('C:/KOUSHIK/CROSS_VALIDATION/DataSet/Colorectal Cancer/NCT-CRC-HE-100K-NONORM/TUM')"
   ]
  },
  {
   "cell_type": "code",
   "execution_count": 115,
   "id": "28016b96",
   "metadata": {},
   "outputs": [],
   "source": [
    "data = pd.DataFrame(index=np.arange(0, len(benign)+len(malignent)), columns=[\"image\", \"target\"])\n",
    "k=0\n",
    "for c in [0,1]:\n",
    "    if c==1:\n",
    "        for m in range(len(benign)):\n",
    "            data.iloc[k][\"image\"] = benign[m]\n",
    "            data.iloc[k][\"target\"] = 0\n",
    "            k+=1\n",
    "    else:\n",
    "        for m in range(len(malignent)):\n",
    "            data.iloc[k][\"image\"] = malignent[m]\n",
    "            data.iloc[k][\"target\"] = 1\n",
    "            k+=1"
   ]
  },
  {
   "cell_type": "code",
   "execution_count": 116,
   "id": "399ff159",
   "metadata": {},
   "outputs": [
    {
     "data": {
      "text/plain": [
       "1    14317\n",
       "0     8763\n",
       "Name: target, dtype: int64"
      ]
     },
     "execution_count": 116,
     "metadata": {},
     "output_type": "execute_result"
    }
   ],
   "source": [
    "data[\"target\"].value_counts()"
   ]
  },
  {
   "cell_type": "code",
   "execution_count": 117,
   "id": "2c56df80",
   "metadata": {},
   "outputs": [],
   "source": [
    "train_image=[]\n",
    "y=[]"
   ]
  },
  {
   "cell_type": "code",
   "execution_count": 118,
   "id": "f0eb5eb0",
   "metadata": {},
   "outputs": [
    {
     "name": "stderr",
     "output_type": "stream",
     "text": [
      "100%|██████████| 23080/23080 [03:21<00:00, 114.39it/s]\n"
     ]
    }
   ],
   "source": [
    "for i in tqdm(range(data.shape[0])):\n",
    "    img = image.load_img(data['image'].iloc[i], target_size=(28,28,1), grayscale=False)\n",
    "    img = image.img_to_array(img)\n",
    "    img = img/255\n",
    "    train_image.append(img)"
   ]
  },
  {
   "cell_type": "markdown",
   "id": "3afe6a9e",
   "metadata": {},
   "source": [
    "# Start BreaKHisTest Dataset"
   ]
  },
  {
   "cell_type": "code",
   "execution_count": 119,
   "id": "8607276d",
   "metadata": {},
   "outputs": [],
   "source": [
    "breakhis_benign=getListOfFiles('C:/KOUSHIK/CROSS_VALIDATION/DataSet/BreaKHisBin/Benign')\n",
    "breakhis_malignent=getListOfFiles('C:/KOUSHIK/CROSS_VALIDATION/DataSet/BreaKHisBin/Malignant')"
   ]
  },
  {
   "cell_type": "code",
   "execution_count": 120,
   "id": "985afdb3",
   "metadata": {},
   "outputs": [],
   "source": [
    "breakHis_data = pd.DataFrame(index=np.arange(0, len(breakhis_benign)+len(breakhis_malignent)), columns=[\"image\", \"target\"])\n",
    "k=0\n",
    "for c in [0,1]:\n",
    "    if c==1:\n",
    "        for m in range(len(breakhis_benign)):\n",
    "            breakHis_data.iloc[k][\"image\"] = breakhis_benign[m]\n",
    "            breakHis_data.iloc[k][\"target\"] = 0\n",
    "            k+=1\n",
    "    else:\n",
    "        for m in range(len(breakhis_malignent)):\n",
    "            breakHis_data.iloc[k][\"image\"] = breakhis_malignent[m]\n",
    "            breakHis_data.iloc[k][\"target\"] = 1\n",
    "            k+=1"
   ]
  },
  {
   "cell_type": "code",
   "execution_count": 121,
   "id": "f6467b86",
   "metadata": {},
   "outputs": [
    {
     "data": {
      "text/plain": [
       "1    1370\n",
       "0     625\n",
       "Name: target, dtype: int64"
      ]
     },
     "execution_count": 121,
     "metadata": {},
     "output_type": "execute_result"
    }
   ],
   "source": [
    "breakHis_data[\"target\"].value_counts()"
   ]
  },
  {
   "cell_type": "code",
   "execution_count": 122,
   "id": "e281ddc3",
   "metadata": {},
   "outputs": [],
   "source": [
    "breaKHis_image=[]\n",
    "breaKHis_y=[]"
   ]
  },
  {
   "cell_type": "code",
   "execution_count": 123,
   "id": "2d6072c5",
   "metadata": {},
   "outputs": [
    {
     "name": "stderr",
     "output_type": "stream",
     "text": [
      "100%|██████████| 1995/1995 [00:54<00:00, 36.52it/s]\n"
     ]
    }
   ],
   "source": [
    "for i in tqdm(range(breakHis_data.shape[0])):\n",
    "    img = image.load_img(breakHis_data['image'].iloc[i], target_size=(28,28,1), grayscale=False)\n",
    "    img = image.img_to_array(img)\n",
    "    img = img/255\n",
    "    breaKHis_image.append(img)"
   ]
  },
  {
   "cell_type": "code",
   "execution_count": 124,
   "id": "ba120e2c",
   "metadata": {},
   "outputs": [],
   "source": [
    "X_breaKHis_test = np.array(breaKHis_image)\n",
    "y_breaKHis_test = data.iloc[:,-1].values"
   ]
  },
  {
   "cell_type": "markdown",
   "id": "c4a17080",
   "metadata": {},
   "source": [
    "# End BreakHis Test Data"
   ]
  },
  {
   "cell_type": "code",
   "execution_count": 125,
   "id": "2ff6530b",
   "metadata": {},
   "outputs": [],
   "source": [
    "X = np.array(train_image)\n",
    "y = data.iloc[:,-1].values\n",
    "X_train, X_test, y_train, y_test = train_test_split(X, y, random_state=42, test_size=0.2, stratify=y)\n",
    "X_test, X_val, y_test, y_val = train_test_split(X_test, y_test, random_state=42, test_size=0.2, shuffle=True)"
   ]
  },
  {
   "cell_type": "code",
   "execution_count": 126,
   "id": "9149dda0",
   "metadata": {},
   "outputs": [],
   "source": [
    "Y_train = keras.utils.np_utils.to_categorical(y_train, 2)\n",
    "Y_test = keras.utils.np_utils.to_categorical(y_test, 2)\n",
    "Y_val = keras.utils.np_utils.to_categorical(y_val, 2)"
   ]
  },
  {
   "cell_type": "code",
   "execution_count": 127,
   "id": "adc66ee8",
   "metadata": {},
   "outputs": [
    {
     "data": {
      "text/plain": [
       "((18464, 28, 28, 3), (3692, 28, 28, 3), (924, 28, 28, 3))"
      ]
     },
     "execution_count": 127,
     "metadata": {},
     "output_type": "execute_result"
    }
   ],
   "source": [
    "X_train.shape, X_test.shape, X_val.shape"
   ]
  },
  {
   "cell_type": "code",
   "execution_count": 128,
   "id": "7359114a",
   "metadata": {},
   "outputs": [
    {
     "name": "stdout",
     "output_type": "stream",
     "text": [
      "Epoch 1/10\n",
      "1847/1847 [==============================] - 9s 4ms/step - loss: 0.6457 - accuracy: 0.6428 - val_loss: 0.5676 - val_accuracy: 0.6797\n",
      "Epoch 2/10\n",
      "1847/1847 [==============================] - 10s 6ms/step - loss: 0.5246 - accuracy: 0.7245 - val_loss: 0.5165 - val_accuracy: 0.7478\n",
      "Epoch 3/10\n",
      "1847/1847 [==============================] - 8s 4ms/step - loss: 0.5140 - accuracy: 0.7451 - val_loss: 0.4865 - val_accuracy: 0.7760\n",
      "Epoch 4/10\n",
      "1847/1847 [==============================] - 8s 5ms/step - loss: 0.4883 - accuracy: 0.7637 - val_loss: 0.4894 - val_accuracy: 0.7478\n",
      "Epoch 5/10\n",
      "1847/1847 [==============================] - 10s 5ms/step - loss: 0.4585 - accuracy: 0.7833 - val_loss: 0.4597 - val_accuracy: 0.7857\n",
      "Epoch 6/10\n",
      "1847/1847 [==============================] - 8s 5ms/step - loss: 0.4232 - accuracy: 0.7997 - val_loss: 0.4454 - val_accuracy: 0.8084\n",
      "Epoch 7/10\n",
      "1847/1847 [==============================] - 11s 6ms/step - loss: 0.4010 - accuracy: 0.8132 - val_loss: 0.5224 - val_accuracy: 0.7576\n",
      "Epoch 8/10\n",
      "1847/1847 [==============================] - 12s 7ms/step - loss: 0.3669 - accuracy: 0.8345 - val_loss: 0.4897 - val_accuracy: 0.7771\n",
      "Epoch 9/10\n",
      "1847/1847 [==============================] - 11s 6ms/step - loss: 0.3403 - accuracy: 0.8465 - val_loss: 0.4849 - val_accuracy: 0.7900\n",
      "Epoch 10/10\n",
      "1847/1847 [==============================] - 8s 4ms/step - loss: 0.3067 - accuracy: 0.8634 - val_loss: 0.5591 - val_accuracy: 0.7846\n"
     ]
    }
   ],
   "source": [
    "model = Sequential()\n",
    "model.add(Conv2D(30, kernel_size = (5,5), strides=(1,1), padding='valid', activation='relu', input_shape=(28,28,3)))\n",
    "model.add(MaxPool2D(pool_size=(3,3)))\n",
    "model.add(Flatten())\n",
    "\n",
    "model.add(Dense(150, activation='relu'))\n",
    "model.add(Dense(75, activation='relu'))\n",
    "\n",
    "model.add(Dense(2, activation='softmax'))\n",
    "model.compile(loss='categorical_crossentropy', metrics=['accuracy'], optimizer='adam')\n",
    "history = model.fit(X_train, Y_train, batch_size=10, epochs=10, validation_data=(X_val, Y_val))"
   ]
  },
  {
   "cell_type": "code",
   "execution_count": 129,
   "id": "ef5c873e",
   "metadata": {},
   "outputs": [
    {
     "data": {
      "text/plain": [
       "<AxesSubplot:>"
      ]
     },
     "execution_count": 129,
     "metadata": {},
     "output_type": "execute_result"
    },
    {
     "data": {
      "image/png": "[encoded data removed]",
      "text/plain": [
       "<Figure size 432x288 with 1 Axes>"
      ]
     },
     "metadata": {
      "needs_background": "light"
     },
     "output_type": "display_data"
    }
   ],
   "source": [
    "history_df = pd.DataFrame(history.history)\n",
    "history_df.plot()"
   ]
  },
  {
   "cell_type": "code",
   "execution_count": 130,
   "id": "df5a996d",
   "metadata": {},
   "outputs": [
    {
     "name": "stderr",
     "output_type": "stream",
     "text": [
      "C:\\Users\\khowlade\\Anaconda3\\lib\\site-packages\\keras\\engine\\sequential.py:450: UserWarning: `model.predict_classes()` is deprecated and will be removed after 2021-01-01. Please use instead:* `np.argmax(model.predict(x), axis=-1)`,   if your model does multi-class classification   (e.g. if it uses a `softmax` last-layer activation).* `(model.predict(x) > 0.5).astype(\"int32\")`,   if your model does binary classification   (e.g. if it uses a `sigmoid` last-layer activation).\n",
      "  warnings.warn('`model.predict_classes()` is deprecated and '\n"
     ]
    },
    {
     "name": "stdout",
     "output_type": "stream",
     "text": [
      "Accuracy Test: 78.00650054171182\n"
     ]
    }
   ],
   "source": [
    "y_pred = model.predict_classes(X_test)\n",
    "acc_test = 0\n",
    "\n",
    "for i in range(X_test.shape[0]):\n",
    "    if(y_pred[i]==y_test[i]):\n",
    "        acc_test= acc_test+1\n",
    "print(\"Accuracy Test:\", acc_test/X_test.shape[0]*100)"
   ]
  },
  {
   "cell_type": "markdown",
   "id": "7bbab14d",
   "metadata": {},
   "source": [
    "# Start BreaKHis Accuracy"
   ]
  },
  {
   "cell_type": "code",
   "execution_count": 131,
   "id": "4613e59d",
   "metadata": {},
   "outputs": [
    {
     "name": "stdout",
     "output_type": "stream",
     "text": [
      "Accuracy Test: 80.0\n"
     ]
    }
   ],
   "source": [
    "y_br_pred = model.predict_classes(X_breaKHis_test)\n",
    "acc_test = 0\n",
    "\n",
    "for i in range(X_breaKHis_test.shape[0]):\n",
    "    if(y_br_pred[i]==y_breaKHis_test[i]):\n",
    "        acc_test= acc_test+1\n",
    "print(\"Accuracy Test:\", acc_test/X_breaKHis_test.shape[0]*100)"
   ]
  },
  {
   "cell_type": "markdown",
   "id": "9a02f2a0",
   "metadata": {},
   "source": [
    "# end BreaKHis Accuracy "
   ]
  }
 ],
 "metadata": {
  "kernelspec": {
   "display_name": "Python 3",
   "language": "python",
   "name": "python3"
  },
  "language_info": {
   "codemirror_mode": {
    "name": "ipython",
    "version": 3
   },
   "file_extension": ".py",
   "mimetype": "text/x-python",
   "name": "python",
   "nbconvert_exporter": "python",
   "pygments_lexer": "ipython3",
   "version": "3.8.8"
  }
 },
 "nbformat": 4,
 "nbformat_minor": 5
}
